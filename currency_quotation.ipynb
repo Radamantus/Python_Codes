{
 "cells": [
  {
   "cell_type": "code",
   "execution_count": 1,
   "metadata": {},
   "outputs": [
    {
     "name": "stdout",
     "output_type": "stream",
     "text": [
      "O valor do dólar hoje 2021-04-23 21:00:02 é R$:5.4748\n",
      "O valor do euro hoje 2021-04-23 21:00:02 é R$:6.6223\n"
     ]
    }
   ],
   "source": [
    "# Cotação do Dólar Americano e do Euro\n",
    "import requests  # Importa a biblioteca\n",
    "request01 = requests.get('https://economia.awesomeapi.com.br/all/USD-BRL')  # Busca a informação\n",
    "request02 = requests.get('https://economia.awesomeapi.com.br/all/EUR-BRL')  # Busca a informação\n",
    "quotation01 = request01.json()  # Desserialização do retorno da API\n",
    "quotation02 = request02.json()  # # Desserialização do retorno da API\n",
    "print('O valor do dólar hoje ' + quotation01['USD']['create_date'], 'é R$:' + quotation01['USD']['bid'])  # Mostra ao usuário o resultado\n",
    "print('O valor do euro hoje ' + quotation02['EUR']['create_date'], 'é R$:' + quotation02['EUR']['bid'])  # Mostra ao usuário o resultado"
   ]
  },
  {
   "cell_type": "code",
   "execution_count": null,
   "metadata": {},
   "outputs": [],
   "source": []
  }
 ],
 "metadata": {
  "kernelspec": {
   "display_name": "Python 3",
   "language": "python",
   "name": "python3"
  },
  "language_info": {
   "codemirror_mode": {
    "name": "ipython",
    "version": 3
   },
   "file_extension": ".py",
   "mimetype": "text/x-python",
   "name": "python",
   "nbconvert_exporter": "python",
   "pygments_lexer": "ipython3",
   "version": "3.8.3"
  }
 },
 "nbformat": 4,
 "nbformat_minor": 4
}
