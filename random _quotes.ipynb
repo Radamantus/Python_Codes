{
 "cells": [
  {
   "cell_type": "code",
   "execution_count": 15,
   "metadata": {},
   "outputs": [
    {
     "name": "stdout",
     "output_type": "stream",
     "text": [
      "Charles Caleb Colton once said: True friendship is like sound health; the value of it is seldom known until it is lost.\n"
     ]
    }
   ],
   "source": [
    "# Gerador de citações aleatórias\n",
    "import requests\n",
    "\n",
    "url = 'https://api.quotable.io/random' #  Link\n",
    "r = requests.get(url) #  Realizar a requisição\n",
    "quote = r.json() #  Informações da citação\n",
    "\n",
    "# print(quote)\n",
    "# print(len(quote['author']))\n",
    "# print(quote['content'])\n",
    "# print('-',quote['author'])\n",
    "print(quote['author'] + ' once said: ' + quote['content']) # Imprime para o usuário"
   ]
  }
 ],
 "metadata": {
  "kernelspec": {
   "display_name": "Python 3",
   "language": "python",
   "name": "python3"
  },
  "language_info": {
   "codemirror_mode": {
    "name": "ipython",
    "version": 3
   },
   "file_extension": ".py",
   "mimetype": "text/x-python",
   "name": "python",
   "nbconvert_exporter": "python",
   "pygments_lexer": "ipython3",
   "version": "3.8.3"
  }
 },
 "nbformat": 4,
 "nbformat_minor": 4
}
